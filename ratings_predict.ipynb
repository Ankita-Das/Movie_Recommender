{
  "nbformat": 4,
  "nbformat_minor": 0,
  "metadata": {
    "colab": {
      "name": "ratings_predict.ipynb",
      "version": "0.3.2",
      "provenance": []
    },
    "kernelspec": {
      "name": "python3",
      "display_name": "Python 3"
    }
  },
  "cells": [
    {
      "cell_type": "markdown",
      "metadata": {
        "id": "view-in-github",
        "colab_type": "text"
      },
      "source": [
        "[View in Colaboratory](https://colab.research.google.com/github/Ankita-Das/Movie_Recommender/blob/master/ratings_predict.ipynb)"
      ]
    },
    {
      "metadata": {
        "id": "IFoFnYBwzA0s",
        "colab_type": "code",
        "colab": {
          "resources": {
            "http://localhost:8080/nbextensions/google.colab/files.js": {
              "data": "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",
              "ok": true,
              "headers": [
                [
                  "content-type",
                  "application/javascript"
                ]
              ],
              "status": 200,
              "status_text": "OK"
            }
          },
          "base_uri": "https://localhost:8080/",
          "height": 115
        },
        "outputId": "48d8ce84-3eb6-44b3-8855-0681e8c41de4"
      },
      "cell_type": "code",
      "source": [
        "from google.colab import files\n",
        "uploaded=files.upload()"
      ],
      "execution_count": 12,
      "outputs": [
        {
          "output_type": "display_data",
          "data": {
            "text/html": [
              "\n",
              "     <input type=\"file\" id=\"files-1e69c71c-5ab2-44ae-bdcd-9bb42f1c621c\" name=\"files[]\" multiple disabled />\n",
              "     <output id=\"result-1e69c71c-5ab2-44ae-bdcd-9bb42f1c621c\">\n",
              "      Upload widget is only available when the cell has been executed in the\n",
              "      current browser session. Please rerun this cell to enable.\n",
              "      </output>\n",
              "      <script src=\"/nbextensions/google.colab/files.js\"></script> "
            ],
            "text/plain": [
              "<IPython.core.display.HTML object>"
            ]
          },
          "metadata": {
            "tags": []
          }
        },
        {
          "output_type": "stream",
          "text": [
            "Saving u.item to u (1).item\n",
            "Saving u.data to u (1).data\n"
          ],
          "name": "stdout"
        }
      ]
    },
    {
      "metadata": {
        "id": "NF1_UI4BwoVm",
        "colab_type": "code",
        "colab": {
          "base_uri": "https://localhost:8080/",
          "height": 1128
        },
        "outputId": "d9bc932f-1cd9-4394-9288-273c332b7c65"
      },
      "cell_type": "code",
      "source": [
        "import numpy as np\n",
        "import pandas as pd\n",
        "header=['user_id','item_id','rating','timestamp']\n",
        "df=pd.read_csv('u.data',sep='\\t',names=header)\n",
        "print(df)"
      ],
      "execution_count": 13,
      "outputs": [
        {
          "output_type": "stream",
          "text": [
            "       user_id  item_id  rating  timestamp\n",
            "0          196      242       3  881250949\n",
            "1          186      302       3  891717742\n",
            "2           22      377       1  878887116\n",
            "3          244       51       2  880606923\n",
            "4          166      346       1  886397596\n",
            "5          298      474       4  884182806\n",
            "6          115      265       2  881171488\n",
            "7          253      465       5  891628467\n",
            "8          305      451       3  886324817\n",
            "9            6       86       3  883603013\n",
            "10          62      257       2  879372434\n",
            "11         286     1014       5  879781125\n",
            "12         200      222       5  876042340\n",
            "13         210       40       3  891035994\n",
            "14         224       29       3  888104457\n",
            "15         303      785       3  879485318\n",
            "16         122      387       5  879270459\n",
            "17         194      274       2  879539794\n",
            "18         291     1042       4  874834944\n",
            "19         234     1184       2  892079237\n",
            "20         119      392       4  886176814\n",
            "21         167      486       4  892738452\n",
            "22         299      144       4  877881320\n",
            "23         291      118       2  874833878\n",
            "24         308        1       4  887736532\n",
            "25          95      546       2  879196566\n",
            "26          38       95       5  892430094\n",
            "27         102      768       2  883748450\n",
            "28          63      277       4  875747401\n",
            "29         160      234       5  876861185\n",
            "...        ...      ...     ...        ...\n",
            "99970      449      120       1  879959573\n",
            "99971      661      762       2  876037121\n",
            "99972      721      874       3  877137447\n",
            "99973      821      151       4  874792889\n",
            "99974      764      596       3  876243046\n",
            "99975      537      443       3  886031752\n",
            "99976      618      628       2  891308019\n",
            "99977      487      291       3  883445079\n",
            "99978      113      975       5  875936424\n",
            "99979      943      391       2  888640291\n",
            "99980      864      685       4  888891900\n",
            "99981      750      323       3  879445877\n",
            "99982      279       64       1  875308510\n",
            "99983      646      750       3  888528902\n",
            "99984      654      370       2  887863914\n",
            "99985      617      582       4  883789294\n",
            "99986      913      690       3  880824288\n",
            "99987      660      229       2  891406212\n",
            "99988      421      498       4  892241344\n",
            "99989      495     1091       4  888637503\n",
            "99990      806      421       4  882388897\n",
            "99991      676      538       4  892685437\n",
            "99992      721      262       3  877137285\n",
            "99993      913      209       2  881367150\n",
            "99994      378       78       3  880056976\n",
            "99995      880      476       3  880175444\n",
            "99996      716      204       5  879795543\n",
            "99997      276     1090       1  874795795\n",
            "99998       13      225       2  882399156\n",
            "99999       12      203       3  879959583\n",
            "\n",
            "[100000 rows x 4 columns]\n"
          ],
          "name": "stdout"
        }
      ]
    },
    {
      "metadata": {
        "id": "w96OCgqEw246",
        "colab_type": "code",
        "colab": {
          "base_uri": "https://localhost:8080/",
          "height": 34
        },
        "outputId": "c7ef4b49-846e-406c-ac5d-fae20e5b0493"
      },
      "cell_type": "code",
      "source": [
        "n_users=df.user_id.unique().shape[0]\n",
        "n_items=df.item_id.unique().shape[0]\n",
        "print('Name of users='+str(n_users)+'| Number of movies='+ str(n_items))"
      ],
      "execution_count": 14,
      "outputs": [
        {
          "output_type": "stream",
          "text": [
            "Name of users=943| Number of movies=1682\n"
          ],
          "name": "stdout"
        }
      ]
    },
    {
      "metadata": {
        "id": "3dhuDM0TyPlI",
        "colab_type": "code",
        "colab": {}
      },
      "cell_type": "code",
      "source": [
        "from sklearn import cross_validation as cv\n",
        "train_data, test_data = cv.train_test_split(df, test_size=0.25)"
      ],
      "execution_count": 0,
      "outputs": []
    },
    {
      "metadata": {
        "id": "WMDpcAwtxQtI",
        "colab_type": "code",
        "colab": {}
      },
      "cell_type": "code",
      "source": [
        "#preparing the user-item matrix\n",
        "train_data_matrix=np.zeros((n_users,n_items))\n",
        "for line in train_data.itertuples():\n",
        "    train_data_matrix[line[1]-1,line[2]-1]=line[3]\n",
        "#creating test data matrix   \n",
        "test_data_matrix=np.zeros((n_users,n_items))\n",
        "for line in test_data.itertuples():\n",
        "    test_data_matrix[line[1]-1,line[2]-1]=line[3]\n"
      ],
      "execution_count": 0,
      "outputs": []
    },
    {
      "metadata": {
        "id": "gLxy1aCLxAMw",
        "colab_type": "code",
        "colab": {
          "base_uri": "https://localhost:8080/",
          "height": 260
        },
        "outputId": "360cf596-fa7a-4682-9afd-9eaadc028d77"
      },
      "cell_type": "code",
      "source": [
        "from sklearn.metrics.pairwise import pairwise_distances\n",
        "item_similarity=1-pairwise_distances(train_data_matrix.T,metric='cosine')\n",
        "print(item_similarity)\n",
        "\n",
        "\n",
        "user_similarity=1-pairwise_distances(train_data_matrix,metric='cosine')\n",
        "print(user_similarity)"
      ],
      "execution_count": 17,
      "outputs": [
        {
          "output_type": "stream",
          "text": [
            "[[1.         0.33440948 0.2602134  ... 0.         0.05427254 0.        ]\n",
            " [0.33440948 1.         0.26350082 ... 0.         0.08729639 0.        ]\n",
            " [0.2602134  0.26350082 1.         ... 0.         0.         0.        ]\n",
            " ...\n",
            " [0.         0.         0.         ... 1.         0.         0.        ]\n",
            " [0.05427254 0.08729639 0.         ... 0.         1.         0.        ]\n",
            " [0.         0.         0.         ... 0.         0.         1.        ]]\n",
            "[[1.         0.13071676 0.03208171 ... 0.08559042 0.13433384 0.32299855]\n",
            " [0.13071676 1.         0.06510906 ... 0.10764245 0.12472687 0.07601754]\n",
            " [0.03208171 0.06510906 1.         ... 0.02914569 0.10066514 0.        ]\n",
            " ...\n",
            " [0.08559042 0.10764245 0.02914569 ... 1.         0.         0.05535135]\n",
            " [0.13433384 0.12472687 0.10066514 ... 0.         1.         0.09444262]\n",
            " [0.32299855 0.07601754 0.         ... 0.05535135 0.09444262 1.        ]]\n"
          ],
          "name": "stdout"
        }
      ]
    },
    {
      "metadata": {
        "id": "uqbyFWXxyge8",
        "colab_type": "code",
        "colab": {
          "base_uri": "https://localhost:8080/",
          "height": 451
        },
        "outputId": "8ff87e25-3462-4373-b73a-4309528d57fd"
      },
      "cell_type": "code",
      "source": [
        "def predict(ratings,similarity,type='user'):\n",
        "    if type =='user':\n",
        "        mean_user_rating=ratings.mean(axis=1)\n",
        "        ratings_diff=(ratings - mean_user_rating[:,np.newaxis])\n",
        "        pred=mean_user_rating[:,np.newaxis]+similarity.dot(ratings_diff)/np.array([np.abs(similarity).sum(axis=1)]).T\n",
        "        print('User-Item similarity wise predicted ratings for each user to each movie:')\n",
        "        print(pred)\n",
        "    elif type=='item':\n",
        "        pred = ratings.dot(similarity) / np.array([np.abs(similarity).sum(axis=1)])\n",
        "        print('Item-Item similarity wise predicted ratings for each user to each movie:')\n",
        "        print(pred)\n",
        "    return pred\n",
        "item_prediction = predict(train_data_matrix, item_similarity, type='item')\n",
        "print('\\n\\n')\n",
        "user_prediction = predict(train_data_matrix, user_similarity, type='user')"
      ],
      "execution_count": 18,
      "outputs": [
        {
          "output_type": "stream",
          "text": [
            "Item-Item similarity wise predicted ratings for each user to each movie:\n",
            "[[0.84493926 0.80984626 0.83479547 ... 0.14103333 0.79176094 0.        ]\n",
            " [0.19559442 0.10889929 0.14149847 ... 0.1839694  0.11185702 0.        ]\n",
            " [0.0725289  0.05702758 0.06913894 ... 0.41114027 0.0591024  0.        ]\n",
            " ...\n",
            " [0.10443382 0.05650222 0.07007068 ... 0.01649862 0.0441619  0.        ]\n",
            " [0.29563189 0.25155255 0.20046965 ... 0.24688894 0.2593934  0.        ]\n",
            " [0.60164031 0.61853672 0.6061693  ... 0.         0.64139809 0.        ]]\n",
            "\n",
            "\n",
            "\n",
            "User-Item similarity wise predicted ratings for each user to each movie:\n",
            "[[ 1.96241335  0.79403864  0.5255805  ...  0.18200481  0.18778643\n",
            "   0.18119899]\n",
            " [ 1.5082105   0.20385419  0.16285554 ... -0.06002714 -0.05928583\n",
            "  -0.0625713 ]\n",
            " [ 0.88949792  0.16853105  0.09114126 ... -0.06543132 -0.07297857\n",
            "  -0.07499068]\n",
            " ...\n",
            " [ 2.13599033  0.23078498  0.1517499  ... -0.14007764 -0.13744982\n",
            "  -0.14082052]\n",
            " [ 1.44081116  0.42321687  0.1716191  ... -0.04679446 -0.04432368\n",
            "  -0.04959229]\n",
            " [ 1.9051229   0.70410797  0.39306996 ...  0.0243413   0.03113579\n",
            "   0.0243413 ]]\n"
          ],
          "name": "stdout"
        }
      ]
    },
    {
      "metadata": {
        "id": "S-D0fdNEypgS",
        "colab_type": "code",
        "colab": {
          "base_uri": "https://localhost:8080/",
          "height": 191
        },
        "outputId": "d7822879-5a13-4ba1-877c-3a87f3f80f1c"
      },
      "cell_type": "code",
      "source": [
        "#####Evaluation with Root Mean Squared Error metric\n",
        "from sklearn.metrics import mean_squared_error\n",
        "from math import sqrt\n",
        "def rmse(prediction,ground_truth):\n",
        "    prediction=prediction[ground_truth.nonzero()].flatten()\n",
        "    ground_truth=ground_truth[ground_truth.nonzero()].flatten()\n",
        "    print('predicted values:')\n",
        "    print(prediction)\n",
        "    print('ground truth values:')\n",
        "    print(ground_truth)\n",
        "    return sqrt(mean_squared_error(prediction,ground_truth))\n",
        "\n",
        "print ('User-based CF RMSE: '+ str(rmse(user_prediction, test_data_matrix)))\n",
        "print ('Item-based CF RMSE: '+ str(rmse(item_prediction, test_data_matrix)))\n",
        "\n"
      ],
      "execution_count": 19,
      "outputs": [
        {
          "output_type": "stream",
          "text": [
            "predicted values:\n",
            "[1.96241335 1.66239365 1.21873215 ... 0.33998609 0.20576345 0.03082163]\n",
            "ground truth values:\n",
            "[5. 4. 1. ... 4. 3. 3.]\n",
            "User-based CF RMSE: 2.967950081367375\n",
            "predicted values:\n",
            "[0.84493926 0.81255959 0.80182599 ... 0.52855582 0.70188526 0.24751453]\n",
            "ground truth values:\n",
            "[5. 4. 1. ... 4. 3. 3.]\n",
            "Item-based CF RMSE: 3.1713992327394327\n"
          ],
          "name": "stdout"
        }
      ]
    }
  ]
}